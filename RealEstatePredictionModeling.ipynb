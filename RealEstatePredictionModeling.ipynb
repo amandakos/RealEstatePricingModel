{
 "cells": [
  {
   "cell_type": "markdown",
   "id": "78d98e8d-3065-47d7-891b-3cfa492f4a25",
   "metadata": {},
   "source": [
    "## Import Packages"
   ]
  },
  {
   "cell_type": "code",
   "execution_count": 1,
   "id": "75f4a36b-13d8-4f25-8eb9-0b54d11b51b4",
   "metadata": {},
   "outputs": [],
   "source": [
    "import pandas as pd\n",
    "import matplotlib.pyplot as plt\n",
    "import numpy as np\n",
    "%matplotlib inline\n",
    "from sklearn.linear_model import LinearRegression\n",
    "from sklearn.model_selection import train_test_split\n",
    "from sklearn import metrics"
   ]
  },
  {
   "cell_type": "markdown",
   "id": "786c92d7-0e45-40a1-9c90-8b3b7ab5f72f",
   "metadata": {},
   "source": [
    "## Import Data"
   ]
  },
  {
   "cell_type": "code",
   "execution_count": 4,
   "id": "d59e6e64-c1d3-4569-94a7-b96ec8c965f8",
   "metadata": {
    "tags": []
   },
   "outputs": [],
   "source": [
    "realestate = pd.read_csv(\"realestate.csv\")"
   ]
  },
  {
   "cell_type": "code",
   "execution_count": 5,
   "id": "931cfe14-fe5a-483b-9f5d-321ea736da86",
   "metadata": {
    "tags": []
   },
   "outputs": [
    {
     "data": {
      "text/html": [
       "<div>\n",
       "<style scoped>\n",
       "    .dataframe tbody tr th:only-of-type {\n",
       "        vertical-align: middle;\n",
       "    }\n",
       "\n",
       "    .dataframe tbody tr th {\n",
       "        vertical-align: top;\n",
       "    }\n",
       "\n",
       "    .dataframe thead th {\n",
       "        text-align: right;\n",
       "    }\n",
       "</style>\n",
       "<table border=\"1\" class=\"dataframe\">\n",
       "  <thead>\n",
       "    <tr style=\"text-align: right;\">\n",
       "      <th></th>\n",
       "      <th>No</th>\n",
       "      <th>X1 transaction date</th>\n",
       "      <th>X2 house age</th>\n",
       "      <th>X3 distance to the nearest MRT station</th>\n",
       "      <th>X4 number of convenience stores</th>\n",
       "      <th>X5 latitude</th>\n",
       "      <th>X6 longitude</th>\n",
       "      <th>Y house price of unit area</th>\n",
       "    </tr>\n",
       "  </thead>\n",
       "  <tbody>\n",
       "    <tr>\n",
       "      <th>0</th>\n",
       "      <td>1</td>\n",
       "      <td>2012.917</td>\n",
       "      <td>32.0</td>\n",
       "      <td>84.87882</td>\n",
       "      <td>10</td>\n",
       "      <td>24.98298</td>\n",
       "      <td>121.54024</td>\n",
       "      <td>37.9</td>\n",
       "    </tr>\n",
       "    <tr>\n",
       "      <th>1</th>\n",
       "      <td>2</td>\n",
       "      <td>2012.917</td>\n",
       "      <td>19.5</td>\n",
       "      <td>306.59470</td>\n",
       "      <td>9</td>\n",
       "      <td>24.98034</td>\n",
       "      <td>121.53951</td>\n",
       "      <td>42.2</td>\n",
       "    </tr>\n",
       "    <tr>\n",
       "      <th>2</th>\n",
       "      <td>3</td>\n",
       "      <td>2013.583</td>\n",
       "      <td>13.3</td>\n",
       "      <td>561.98450</td>\n",
       "      <td>5</td>\n",
       "      <td>24.98746</td>\n",
       "      <td>121.54391</td>\n",
       "      <td>47.3</td>\n",
       "    </tr>\n",
       "    <tr>\n",
       "      <th>3</th>\n",
       "      <td>4</td>\n",
       "      <td>2013.500</td>\n",
       "      <td>13.3</td>\n",
       "      <td>561.98450</td>\n",
       "      <td>5</td>\n",
       "      <td>24.98746</td>\n",
       "      <td>121.54391</td>\n",
       "      <td>54.8</td>\n",
       "    </tr>\n",
       "    <tr>\n",
       "      <th>4</th>\n",
       "      <td>5</td>\n",
       "      <td>2012.833</td>\n",
       "      <td>5.0</td>\n",
       "      <td>390.56840</td>\n",
       "      <td>5</td>\n",
       "      <td>24.97937</td>\n",
       "      <td>121.54245</td>\n",
       "      <td>43.1</td>\n",
       "    </tr>\n",
       "  </tbody>\n",
       "</table>\n",
       "</div>"
      ],
      "text/plain": [
       "   No  X1 transaction date  X2 house age  \\\n",
       "0   1             2012.917          32.0   \n",
       "1   2             2012.917          19.5   \n",
       "2   3             2013.583          13.3   \n",
       "3   4             2013.500          13.3   \n",
       "4   5             2012.833           5.0   \n",
       "\n",
       "   X3 distance to the nearest MRT station  X4 number of convenience stores  \\\n",
       "0                                84.87882                               10   \n",
       "1                               306.59470                                9   \n",
       "2                               561.98450                                5   \n",
       "3                               561.98450                                5   \n",
       "4                               390.56840                                5   \n",
       "\n",
       "   X5 latitude  X6 longitude  Y house price of unit area  \n",
       "0     24.98298     121.54024                        37.9  \n",
       "1     24.98034     121.53951                        42.2  \n",
       "2     24.98746     121.54391                        47.3  \n",
       "3     24.98746     121.54391                        54.8  \n",
       "4     24.97937     121.54245                        43.1  "
      ]
     },
     "execution_count": 5,
     "metadata": {},
     "output_type": "execute_result"
    }
   ],
   "source": [
    "realestate.head()"
   ]
  },
  {
   "cell_type": "markdown",
   "id": "a8666fb0-5c47-4338-ab31-91d87960e851",
   "metadata": {},
   "source": [
    "## Goal: Using the above data, build a model to accurately predict housing prices. This variable is conveniently labeled Y house price of unit area. Use X variables numbered 2-6 to determine housing prices. When completed, if desired, you should be able to take completely new data, maybe from a new geographic location, and predict housing prices there."
   ]
  },
  {
   "cell_type": "markdown",
   "id": "30737a63-d606-4f32-8ba6-823ed68be916",
   "metadata": {},
   "source": [
    "## Data Wrangling"
   ]
  },
  {
   "cell_type": "code",
   "execution_count": 6,
   "id": "eb6a0753-4a35-4a2a-8a43-57598bb53ea6",
   "metadata": {
    "tags": []
   },
   "outputs": [],
   "source": [
    "x = realestate[['X2 house age', 'X3 distance to the nearest MRT station', 'X4 number of convenience stores', 'X5 latitude', 'X6 longitude']]"
   ]
  },
  {
   "cell_type": "code",
   "execution_count": 7,
   "id": "0e70ef96-7e4f-4e6d-97b6-352f46b3665f",
   "metadata": {
    "tags": []
   },
   "outputs": [],
   "source": [
    "y = realestate['Y house price of unit area']"
   ]
  },
  {
   "cell_type": "markdown",
   "id": "b8887287-9282-4bed-aad3-6e502861e2e6",
   "metadata": {},
   "source": [
    "## Train Test Split"
   ]
  },
  {
   "cell_type": "code",
   "execution_count": 8,
   "id": "03c50df8-8866-4ae4-ad6e-e76fcf0af87b",
   "metadata": {
    "tags": []
   },
   "outputs": [],
   "source": [
    "x_train, x_test, y_train, y_test = train_test_split(x,y, test_size = .4, random_state=101)"
   ]
  },
  {
   "cell_type": "code",
   "execution_count": 9,
   "id": "e23fbc56-8ec6-42f1-8fd8-8518187a78eb",
   "metadata": {
    "tags": []
   },
   "outputs": [
    {
     "name": "stdout",
     "output_type": "stream",
     "text": [
      "(248, 5) (248,)\n",
      "(166, 5) (166,)\n"
     ]
    }
   ],
   "source": [
    "print(x_train.shape, y_train.shape)\n",
    "print(x_test.shape, y_test.shape)"
   ]
  },
  {
   "cell_type": "code",
   "execution_count": 10,
   "id": "9e51d82b-0247-4238-b146-6c49c3ba6cf9",
   "metadata": {
    "tags": []
   },
   "outputs": [
    {
     "data": {
      "text/html": [
       "<style>#sk-container-id-1 {color: black;}#sk-container-id-1 pre{padding: 0;}#sk-container-id-1 div.sk-toggleable {background-color: white;}#sk-container-id-1 label.sk-toggleable__label {cursor: pointer;display: block;width: 100%;margin-bottom: 0;padding: 0.3em;box-sizing: border-box;text-align: center;}#sk-container-id-1 label.sk-toggleable__label-arrow:before {content: \"▸\";float: left;margin-right: 0.25em;color: #696969;}#sk-container-id-1 label.sk-toggleable__label-arrow:hover:before {color: black;}#sk-container-id-1 div.sk-estimator:hover label.sk-toggleable__label-arrow:before {color: black;}#sk-container-id-1 div.sk-toggleable__content {max-height: 0;max-width: 0;overflow: hidden;text-align: left;background-color: #f0f8ff;}#sk-container-id-1 div.sk-toggleable__content pre {margin: 0.2em;color: black;border-radius: 0.25em;background-color: #f0f8ff;}#sk-container-id-1 input.sk-toggleable__control:checked~div.sk-toggleable__content {max-height: 200px;max-width: 100%;overflow: auto;}#sk-container-id-1 input.sk-toggleable__control:checked~label.sk-toggleable__label-arrow:before {content: \"▾\";}#sk-container-id-1 div.sk-estimator input.sk-toggleable__control:checked~label.sk-toggleable__label {background-color: #d4ebff;}#sk-container-id-1 div.sk-label input.sk-toggleable__control:checked~label.sk-toggleable__label {background-color: #d4ebff;}#sk-container-id-1 input.sk-hidden--visually {border: 0;clip: rect(1px 1px 1px 1px);clip: rect(1px, 1px, 1px, 1px);height: 1px;margin: -1px;overflow: hidden;padding: 0;position: absolute;width: 1px;}#sk-container-id-1 div.sk-estimator {font-family: monospace;background-color: #f0f8ff;border: 1px dotted black;border-radius: 0.25em;box-sizing: border-box;margin-bottom: 0.5em;}#sk-container-id-1 div.sk-estimator:hover {background-color: #d4ebff;}#sk-container-id-1 div.sk-parallel-item::after {content: \"\";width: 100%;border-bottom: 1px solid gray;flex-grow: 1;}#sk-container-id-1 div.sk-label:hover label.sk-toggleable__label {background-color: #d4ebff;}#sk-container-id-1 div.sk-serial::before {content: \"\";position: absolute;border-left: 1px solid gray;box-sizing: border-box;top: 0;bottom: 0;left: 50%;z-index: 0;}#sk-container-id-1 div.sk-serial {display: flex;flex-direction: column;align-items: center;background-color: white;padding-right: 0.2em;padding-left: 0.2em;position: relative;}#sk-container-id-1 div.sk-item {position: relative;z-index: 1;}#sk-container-id-1 div.sk-parallel {display: flex;align-items: stretch;justify-content: center;background-color: white;position: relative;}#sk-container-id-1 div.sk-item::before, #sk-container-id-1 div.sk-parallel-item::before {content: \"\";position: absolute;border-left: 1px solid gray;box-sizing: border-box;top: 0;bottom: 0;left: 50%;z-index: -1;}#sk-container-id-1 div.sk-parallel-item {display: flex;flex-direction: column;z-index: 1;position: relative;background-color: white;}#sk-container-id-1 div.sk-parallel-item:first-child::after {align-self: flex-end;width: 50%;}#sk-container-id-1 div.sk-parallel-item:last-child::after {align-self: flex-start;width: 50%;}#sk-container-id-1 div.sk-parallel-item:only-child::after {width: 0;}#sk-container-id-1 div.sk-dashed-wrapped {border: 1px dashed gray;margin: 0 0.4em 0.5em 0.4em;box-sizing: border-box;padding-bottom: 0.4em;background-color: white;}#sk-container-id-1 div.sk-label label {font-family: monospace;font-weight: bold;display: inline-block;line-height: 1.2em;}#sk-container-id-1 div.sk-label-container {text-align: center;}#sk-container-id-1 div.sk-container {/* jupyter's `normalize.less` sets `[hidden] { display: none; }` but bootstrap.min.css set `[hidden] { display: none !important; }` so we also need the `!important` here to be able to override the default hidden behavior on the sphinx rendered scikit-learn.org. See: https://github.com/scikit-learn/scikit-learn/issues/21755 */display: inline-block !important;position: relative;}#sk-container-id-1 div.sk-text-repr-fallback {display: none;}</style><div id=\"sk-container-id-1\" class=\"sk-top-container\"><div class=\"sk-text-repr-fallback\"><pre>LinearRegression()</pre><b>In a Jupyter environment, please rerun this cell to show the HTML representation or trust the notebook. <br />On GitHub, the HTML representation is unable to render, please try loading this page with nbviewer.org.</b></div><div class=\"sk-container\" hidden><div class=\"sk-item\"><div class=\"sk-estimator sk-toggleable\"><input class=\"sk-toggleable__control sk-hidden--visually\" id=\"sk-estimator-id-1\" type=\"checkbox\" checked><label for=\"sk-estimator-id-1\" class=\"sk-toggleable__label sk-toggleable__label-arrow\">LinearRegression</label><div class=\"sk-toggleable__content\"><pre>LinearRegression()</pre></div></div></div></div></div>"
      ],
      "text/plain": [
       "LinearRegression()"
      ]
     },
     "execution_count": 10,
     "metadata": {},
     "output_type": "execute_result"
    }
   ],
   "source": [
    "lm = LinearRegression()\n",
    "lm.fit(x_train, y_train)"
   ]
  },
  {
   "cell_type": "markdown",
   "id": "5ae6007e-d2c7-45ef-ad1e-2a387634ef1f",
   "metadata": {},
   "source": [
    "## Examine Predictions"
   ]
  },
  {
   "cell_type": "code",
   "execution_count": 11,
   "id": "ad8eb078-f6c0-4df3-b28e-4fd564e2c327",
   "metadata": {
    "tags": []
   },
   "outputs": [
    {
     "data": {
      "text/plain": [
       "array([14.77852916,  8.35848599, 23.1113017 , 47.67384657, 30.05251015,\n",
       "       37.468435  , 38.01762284, 41.08294225, 46.50080685, 40.34536509,\n",
       "       43.87818623, 33.77279613, 40.08116941, 37.31066596, 46.15211908,\n",
       "       48.22093568, 39.48594154, 46.43844951, 49.94962395, 47.552992  ,\n",
       "       41.60580876, 52.60152777, 47.16226231, 37.48194878, 32.40811002,\n",
       "       50.67597957, 39.35917038, 47.99287312, 45.4694465 , 39.33112551,\n",
       "       49.61736207, 42.53188577, 42.96261018, 46.15577268, 44.94124757,\n",
       "        7.13730951, 39.15074038, 39.77497805,  7.07979164, 54.43242047,\n",
       "       31.26660065, 46.90435905, 24.89017208, 48.80711134, 42.6710441 ,\n",
       "       50.08982154, 41.0044385 , 37.39701978, 44.86394799, 36.76558821,\n",
       "       46.8133099 , 35.89912014, 42.35933217, 14.7421879 , 38.74428879,\n",
       "       47.50157796, 43.06612319, 45.44985241, 43.77496083, 39.48259244,\n",
       "       34.31225036, 45.52392252, 42.44560897, 42.0625614 , 51.89857656,\n",
       "       42.74806676, 24.28752167, 48.68058491, 31.25018334, 40.06346133,\n",
       "       43.6178354 , 48.68240545, 14.21653961, 35.23519914, 14.76427345,\n",
       "       43.25900943, 33.7425475 , 44.18683365, 42.22275082, 11.21376847,\n",
       "       45.59819933, 36.51146884, 42.35933217, 29.6210743 , 52.16203381,\n",
       "       14.75338445, 35.2064402 , 33.2566497 , 40.22496408, 14.09152523,\n",
       "       47.50926438, 34.37096962, 45.11380117, 25.01302325, 33.54177669,\n",
       "       30.06022011, 23.53156264, 46.64460151, 27.77120309, 37.6169996 ,\n",
       "       47.67413156, 30.23443112, 38.67231057, 40.81568301, 48.46849393,\n",
       "       27.3840657 , 28.40540026, 30.66691363, 32.9788148 , 42.56064471,\n",
       "       46.55832471, 46.09825481, 49.45208001, 33.9117351 , 47.53802332,\n",
       "       42.53188577, 42.46357723, 46.50080685, 43.96908151, 44.54806893,\n",
       "       51.11916869, 42.91232964, 32.24698686, 14.78214338, 35.89873172,\n",
       "       33.94049403, 14.38904544, 42.79542479, 49.39456214, 43.94751443,\n",
       "       28.31477818, 39.86164578, 45.17199505, 48.46849393, 52.57276884,\n",
       "       38.23919165, 36.23935025, 45.52392252, 42.3923762 , 39.99498272,\n",
       "       34.53964756, 48.84883348, 32.83255357, 45.68510943, 33.27573801,\n",
       "       39.69163345, 15.22305451, 33.74403719, 39.2721091 , 24.77513635,\n",
       "       46.01197801, 45.95357381, 31.62887841, 31.20555338, 46.55832471,\n",
       "       33.73827309, 46.82193446, 29.9451677 , 46.78249532, 11.76318638,\n",
       "       52.77408137, 46.49381411, 47.21978018, 54.51869727, 40.81742848,\n",
       "       52.86035817])"
      ]
     },
     "execution_count": 11,
     "metadata": {},
     "output_type": "execute_result"
    }
   ],
   "source": [
    "predictions = lm.predict(x_test)\n",
    "predictions"
   ]
  },
  {
   "cell_type": "code",
   "execution_count": 12,
   "id": "29aae8d0-27f4-4573-a30e-ff220d3a3b48",
   "metadata": {
    "tags": []
   },
   "outputs": [
    {
     "data": {
      "text/plain": [
       "<matplotlib.collections.PathCollection at 0x22cee605490>"
      ]
     },
     "execution_count": 12,
     "metadata": {},
     "output_type": "execute_result"
    },
    {
     "data": {
      "image/png": "[encoded data removed]",
      "text/plain": [
       "<Figure size 640x480 with 1 Axes>"
      ]
     },
     "metadata": {},
     "output_type": "display_data"
    }
   ],
   "source": [
    "plt.scatter(y_test, predictions)"
   ]
  },
  {
   "cell_type": "markdown",
   "id": "f5c9206a-fc97-4f59-b216-67e2acb21a9c",
   "metadata": {},
   "source": [
    "## Accuracy Score"
   ]
  },
  {
   "cell_type": "code",
   "execution_count": 13,
   "id": "a6bd1dfc-5a7b-41b6-b3b0-a64e46f5b988",
   "metadata": {
    "tags": []
   },
   "outputs": [
    {
     "name": "stdout",
     "output_type": "stream",
     "text": [
      "Score: 0.64423808451217\n"
     ]
    }
   ],
   "source": [
    "print(\"Score:\", lm.score(x_test, y_test))"
   ]
  },
  {
   "cell_type": "markdown",
   "id": "ffd5c227-da3f-4eb3-b4e2-a4a68361fdbc",
   "metadata": {},
   "source": [
    "## 64% accurate"
   ]
  },
  {
   "cell_type": "markdown",
   "id": "bf762505-7326-48d5-ad68-fb87321aa84a",
   "metadata": {},
   "source": [
    "## Examining Error"
   ]
  },
  {
   "cell_type": "markdown",
   "id": "09a914e1-f5ef-4dde-a10f-e40df6dbc8ca",
   "metadata": {},
   "source": [
    "## Mean Absolute Error (MAE)"
   ]
  },
  {
   "cell_type": "code",
   "execution_count": 14,
   "id": "ea06ad1f-4b81-40b4-93ca-0957e1d51029",
   "metadata": {
    "tags": []
   },
   "outputs": [
    {
     "data": {
      "text/plain": [
       "5.550201321415549"
      ]
     },
     "execution_count": 14,
     "metadata": {},
     "output_type": "execute_result"
    }
   ],
   "source": [
    "metrics.mean_absolute_error(y_test, predictions)"
   ]
  },
  {
   "cell_type": "markdown",
   "id": "bcc8ada2-fb50-415b-9ee1-6d9e9cdf7e02",
   "metadata": {},
   "source": [
    "## Mean Squared Error (MSE)"
   ]
  },
  {
   "cell_type": "code",
   "execution_count": 15,
   "id": "3e38db5a-cfc8-4923-a0c2-ea4919afee82",
   "metadata": {
    "tags": []
   },
   "outputs": [
    {
     "data": {
      "text/plain": [
       "54.375728544922424"
      ]
     },
     "execution_count": 15,
     "metadata": {},
     "output_type": "execute_result"
    }
   ],
   "source": [
    "metrics.mean_squared_error(y_test, predictions)"
   ]
  },
  {
   "cell_type": "markdown",
   "id": "b5b5af8d-aea5-4d4a-ad9f-2cae077ebb89",
   "metadata": {},
   "source": [
    "## Root Mean Squared Error (RMSE)"
   ]
  },
  {
   "cell_type": "code",
   "execution_count": 16,
   "id": "306049e4-18c8-4565-9cf7-8545a3a97005",
   "metadata": {
    "tags": []
   },
   "outputs": [
    {
     "data": {
      "text/plain": [
       "7.373990001683107"
      ]
     },
     "execution_count": 16,
     "metadata": {},
     "output_type": "execute_result"
    }
   ],
   "source": [
    "np.sqrt(metrics.mean_squared_error(y_test, predictions))"
   ]
  },
  {
   "cell_type": "markdown",
   "id": "bff20d96-e704-4ca4-abbe-8e81ed62cdb4",
   "metadata": {},
   "source": [
    "## K-Fold Cross Validation "
   ]
  },
  {
   "cell_type": "markdown",
   "id": "ae924c9f-b60a-4920-862d-df457e4fb673",
   "metadata": {},
   "source": [
    "## Import Packages"
   ]
  },
  {
   "cell_type": "code",
   "execution_count": 17,
   "id": "065af1bb-17e5-42ac-9eb5-b0b9a24d4f07",
   "metadata": {
    "tags": []
   },
   "outputs": [],
   "source": [
    "from sklearn.model_selection import KFold\n",
    "from sklearn.model_selection import cross_val_score"
   ]
  },
  {
   "cell_type": "markdown",
   "id": "54d693c5-93cb-487f-ad91-7ff0a2661482",
   "metadata": {},
   "source": [
    "## Goal: Ensure the most accurate and rigorous model"
   ]
  },
  {
   "cell_type": "markdown",
   "id": "bf732899-2d88-4d53-aa30-9d142e83c2a9",
   "metadata": {},
   "source": [
    "## Create the Folds"
   ]
  },
  {
   "cell_type": "code",
   "execution_count": 18,
   "id": "2dae3e2c-c87f-4f7c-a998-5b604f1de95a",
   "metadata": {
    "tags": []
   },
   "outputs": [
    {
     "name": "stdout",
     "output_type": "stream",
     "text": [
      "train: [  0   1   2   3   7   8   9  10  14  15  16  19  20  21  22  24  25  26\n",
      "  28  30  31  32  33  34  35  36  37  38  42  43  44  45  46  47  48  49\n",
      "  50  51  52  53  54  55  56  57  60  63  64  66  68  70  71  72  74  75\n",
      "  76  77  79  83  84  86  87  88  94  96  97  99 100 103 104 105 108 109\n",
      " 110 111 112 113 114 115 116 118 121 123 124 126 128 129 130 131 133 134\n",
      " 135 136 137 138 140 141 142 143 144 145 147 148 149 150 151 152 153 154\n",
      " 155 156 157 158 160 163 166 167 168 169 170 174 175 176 177 178 181 182\n",
      " 183 184 188 190 193 194 195 196 197 198 199 200 201 202 203 205 206 208\n",
      " 209 210 212 215 216 217 219 220 221 222 224 225 226 227 229 231 234 235\n",
      " 236 237 239 240 241 243 246 248 249 250 251 252 253 254 255 258 259 260\n",
      " 262 263 264 265 266 267 269 275 276 277 278 279 280 281 282 283 284 285\n",
      " 287 288 290 293 296 297 301 302 303 305 306 307 308 309 310 313 315 316\n",
      " 317 318 319 321 324 326 327 328 331 333 334 335 336 339 340 342 343 344\n",
      " 345 347 349 352 353 354 355 356 357 358 359 361 362 365 366 369 371 372\n",
      " 375 376 377 381 382 383 384 386 387 390 391 392 393 394 396 399 400 402\n",
      " 404 406 407 408 411 413], test: [  4   5   6  11  12  13  17  18  23  27  29  39  40  41  58  59  61  62\n",
      "  65  67  69  73  78  80  81  82  85  89  90  91  92  93  95  98 101 102\n",
      " 106 107 117 119 120 122 125 127 132 139 146 159 161 162 164 165 171 172\n",
      " 173 179 180 185 186 187 189 191 192 204 207 211 213 214 218 223 228 230\n",
      " 232 233 238 242 244 245 247 256 257 261 268 270 271 272 273 274 286 289\n",
      " 291 292 294 295 298 299 300 304 311 312 314 320 322 323 325 329 330 332\n",
      " 337 338 341 346 348 350 351 360 363 364 367 368 370 373 374 378 379 380\n",
      " 385 388 389 395 397 398 401 403 405 409 410 412]\n",
      "train: [  1   2   3   4   5   6   7  10  11  12  13  15  17  18  20  22  23  25\n",
      "  26  27  29  30  36  37  39  40  41  43  49  50  52  54  57  58  59  60\n",
      "  61  62  64  65  67  68  69  71  72  73  74  75  76  77  78  80  81  82\n",
      "  83  85  86  87  89  90  91  92  93  94  95  96  97  98 101 102 103 104\n",
      " 106 107 109 114 115 117 118 119 120 121 122 125 126 127 129 130 132 133\n",
      " 136 139 140 141 143 144 146 148 149 151 152 153 155 156 159 161 162 164\n",
      " 165 166 170 171 172 173 176 178 179 180 181 182 183 185 186 187 189 190\n",
      " 191 192 193 194 195 196 198 200 202 203 204 207 209 210 211 213 214 215\n",
      " 216 218 220 223 226 228 230 232 233 235 237 238 239 240 241 242 243 244\n",
      " 245 247 252 253 254 255 256 257 259 261 262 263 264 265 266 268 269 270\n",
      " 271 272 273 274 276 278 279 280 281 282 286 288 289 291 292 294 295 297\n",
      " 298 299 300 301 302 303 304 308 309 311 312 313 314 316 317 318 319 320\n",
      " 321 322 323 325 329 330 332 335 336 337 338 339 340 341 345 346 347 348\n",
      " 350 351 352 357 359 360 363 364 365 366 367 368 369 370 372 373 374 376\n",
      " 378 379 380 381 382 385 386 388 389 390 393 395 396 397 398 399 401 402\n",
      " 403 405 407 409 410 412], test: [  0   8   9  14  16  19  21  24  28  31  32  33  34  35  38  42  44  45\n",
      "  46  47  48  51  53  55  56  63  66  70  79  84  88  99 100 105 108 110\n",
      " 111 112 113 116 123 124 128 131 134 135 137 138 142 145 147 150 154 157\n",
      " 158 160 163 167 168 169 174 175 177 184 188 197 199 201 205 206 208 212\n",
      " 217 219 221 222 224 225 227 229 231 234 236 246 248 249 250 251 258 260\n",
      " 267 275 277 283 284 285 287 290 293 296 305 306 307 310 315 324 326 327\n",
      " 328 331 333 334 342 343 344 349 353 354 355 356 358 361 362 371 375 377\n",
      " 383 384 387 391 392 394 400 404 406 408 411 413]\n",
      "train: [  0   4   5   6   8   9  11  12  13  14  16  17  18  19  21  23  24  27\n",
      "  28  29  31  32  33  34  35  38  39  40  41  42  44  45  46  47  48  51\n",
      "  53  55  56  58  59  61  62  63  65  66  67  69  70  73  78  79  80  81\n",
      "  82  84  85  88  89  90  91  92  93  95  98  99 100 101 102 105 106 107\n",
      " 108 110 111 112 113 116 117 119 120 122 123 124 125 127 128 131 132 134\n",
      " 135 137 138 139 142 145 146 147 150 154 157 158 159 160 161 162 163 164\n",
      " 165 167 168 169 171 172 173 174 175 177 179 180 184 185 186 187 188 189\n",
      " 191 192 197 199 201 204 205 206 207 208 211 212 213 214 217 218 219 221\n",
      " 222 223 224 225 227 228 229 230 231 232 233 234 236 238 242 244 245 246\n",
      " 247 248 249 250 251 256 257 258 260 261 267 268 270 271 272 273 274 275\n",
      " 277 283 284 285 286 287 289 290 291 292 293 294 295 296 298 299 300 304\n",
      " 305 306 307 310 311 312 314 315 320 322 323 324 325 326 327 328 329 330\n",
      " 331 332 333 334 337 338 341 342 343 344 346 348 349 350 351 353 354 355\n",
      " 356 358 360 361 362 363 364 367 368 370 371 373 374 375 377 378 379 380\n",
      " 383 384 385 387 388 389 391 392 394 395 397 398 400 401 403 404 405 406\n",
      " 408 409 410 411 412 413], test: [  1   2   3   7  10  15  20  22  25  26  30  36  37  43  49  50  52  54\n",
      "  57  60  64  68  71  72  74  75  76  77  83  86  87  94  96  97 103 104\n",
      " 109 114 115 118 121 126 129 130 133 136 140 141 143 144 148 149 151 152\n",
      " 153 155 156 166 170 176 178 181 182 183 190 193 194 195 196 198 200 202\n",
      " 203 209 210 215 216 220 226 235 237 239 240 241 243 252 253 254 255 259\n",
      " 262 263 264 265 266 269 276 278 279 280 281 282 288 297 301 302 303 308\n",
      " 309 313 316 317 318 319 321 335 336 339 340 345 347 352 357 359 365 366\n",
      " 369 372 376 381 382 386 390 393 396 399 402 407]\n"
     ]
    }
   ],
   "source": [
    "kfold = KFold(n_splits= 3, shuffle=True, random_state=1)\n",
    "for train, test in kfold.split(x,y):\n",
    "    print(f'train: {train}, test: {test}')"
   ]
  },
  {
   "cell_type": "code",
   "execution_count": 19,
   "id": "74634431-c45f-480d-b48f-a8205f2f8521",
   "metadata": {
    "tags": []
   },
   "outputs": [
    {
     "name": "stdout",
     "output_type": "stream",
     "text": [
      "[0.62051774 0.50393467 0.55970703]\n"
     ]
    }
   ],
   "source": [
    "print(cross_val_score(lm, x,y, cv=3))"
   ]
  },
  {
   "cell_type": "markdown",
   "id": "6b63d24c-5892-4011-a4f0-4fb285402e9c",
   "metadata": {},
   "source": [
    "## These models are 62%, 50%, and 56% accurate respectively. Not the best, but a great place to start."
   ]
  },
  {
   "cell_type": "code",
   "execution_count": null,
   "id": "8d355c75-33f5-4a11-9b35-16540100614c",
   "metadata": {},
   "outputs": [],
   "source": []
  }
 ],
 "metadata": {
  "kernelspec": {
   "display_name": "Python 3 (ipykernel)",
   "language": "python",
   "name": "python3"
  },
  "language_info": {
   "codemirror_mode": {
    "name": "ipython",
    "version": 3
   },
   "file_extension": ".py",
   "mimetype": "text/x-python",
   "name": "python",
   "nbconvert_exporter": "python",
   "pygments_lexer": "ipython3",
   "version": "3.11.3"
  }
 },
 "nbformat": 4,
 "nbformat_minor": 5
}
